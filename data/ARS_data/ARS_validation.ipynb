{
 "cells": [
  {
   "cell_type": "code",
   "execution_count": 1,
   "metadata": {},
   "outputs": [],
   "source": [
    "from ARS import *"
   ]
  },
  {
   "cell_type": "code",
   "execution_count": 2,
   "metadata": {},
   "outputs": [],
   "source": [
    "n_steps=0\n",
    "n_charges=6\n",
    "scan_name=\"2_2_2_new\"\n",
    "cubes_dir=\"/home/boittier/v1\"\n",
    "output_dir=\"water0_bi_2_2_2_new\"\n",
    "frames=\"/home/boittier/AdjustReference-System/frames.txt\"\n",
    "initial_fit_cube=\"/home/boittier/v1/2_2_2_new\"\n",
    "pcube = cubes_dir + \"/2_2_2_new.com.chk.p.cube\"\n",
    "frame = frames\n",
    "pcube2 = pcube\n",
    "method = \"bisector\"\n",
    "\n",
    "def print_vals(ars_obj):\n",
    "    print(\"local c pos.\\n\", ars_obj.get_c_positions_local())\n",
    "    print(\"charge_atom_associations\\n\", ars_obj.charge_atom_associations)"
   ]
  },
  {
   "cell_type": "markdown",
   "metadata": {},
   "source": [
    "#  Testing X axes"
   ]
  },
  {
   "cell_type": "code",
   "execution_count": 3,
   "metadata": {},
   "outputs": [
    {
     "name": "stdout",
     "output_type": "stream",
     "text": [
      "local c pos.\n",
      " [[ 3.28557238e-01 -2.80129161e-06 -1.41009671e-01]\n",
      " [ 3.32657128e-02 -2.84310960e-05 -7.48222582e-02]]\n",
      "charge_atom_associations\n",
      " [[0, 2], [1, 2]]\n"
     ]
    }
   ],
   "source": [
    "initial_fit=\"/home/boittier/AdjustReference-System/test_x.xyz\"\n",
    "xyz = initial_fit\n",
    "ars_obj = ARS(xyz, pcube, frames, pcube_2=pcube, method=method)\n",
    "print_vals(ars_obj)"
   ]
  },
  {
   "cell_type": "code",
   "execution_count": 4,
   "metadata": {},
   "outputs": [
    {
     "name": "stdout",
     "output_type": "stream",
     "text": [
      "set local positions: \n",
      " [[ 0.1  0.   0. ]\n",
      " [-0.1  0.   0. ]]\n",
      "local c pos.\n",
      " [[ 1.00000000e-01  0.00000000e+00 -4.85722573e-17]\n",
      " [-1.00000000e-01  0.00000000e+00  1.38777878e-17]]\n",
      "charge_atom_associations\n",
      " [[0, 2], [1, 2]]\n"
     ]
    }
   ],
   "source": [
    "ars_obj.set_local_charge_positions(np.array([[0.1,0,0], [-0.1,0,0]])) \n",
    "print(\"set local positions: \\n\", ars_obj.get_c_positions_local())\n",
    "cp = ars_obj.local_to_global()\n",
    "ars_obj.set_charge_positions_plus(cp)\n",
    "ars_obj.save_charges_global(os.path.join(\"/home/boittier/AdjustReference-System\", \"test_x.xyz\"))\n",
    "initial_fit=\"/home/boittier/AdjustReference-System/global_test_x.xyz\"\n",
    "xyz = initial_fit\n",
    "ars_obj = ARS(xyz, pcube, frames, pcube_2=pcube, method=method)\n",
    "print_vals(ars_obj)"
   ]
  },
  {
   "cell_type": "code",
   "execution_count": 5,
   "metadata": {},
   "outputs": [
    {
     "name": "stdout",
     "output_type": "stream",
     "text": [
      "set local positions: \n",
      " [[ 0.   0.1  0. ]\n",
      " [ 0.  -0.1  0. ]]\n",
      "local c pos.\n",
      " [[ 4.40517460e-17  1.00000000e-01  3.37776788e-17]\n",
      " [ 4.40517460e-17 -1.00000000e-01  3.37776788e-17]]\n",
      "charge_atom_associations\n",
      " [[0, 2], [1, 2]]\n"
     ]
    }
   ],
   "source": [
    "ars_obj.set_local_charge_positions(np.array([[0,0.1,0], [0,-0.1,0]])) \n",
    "print(\"set local positions: \\n\", ars_obj.get_c_positions_local())\n",
    "cp = ars_obj.local_to_global()\n",
    "ars_obj.set_charge_positions_plus(cp)\n",
    "ars_obj.save_charges_global(os.path.join(\"/home/boittier/AdjustReference-System\", \"test_x.xyz\"))\n",
    "initial_fit=\"/home/boittier/AdjustReference-System/global_test_x.xyz\"\n",
    "xyz = initial_fit\n",
    "ars_obj = ARS(xyz, pcube, frames, pcube_2=pcube, method=method)\n",
    "print_vals(ars_obj)"
   ]
  },
  {
   "cell_type": "code",
   "execution_count": 6,
   "metadata": {},
   "outputs": [
    {
     "name": "stdout",
     "output_type": "stream",
     "text": [
      "set local positions: \n",
      " [[ 0.   0.   0.1]\n",
      " [ 0.   0.  -0.1]]\n",
      "local c pos.\n",
      " [[-6.24500451e-17  0.00000000e+00  1.00000000e-01]\n",
      " [ 6.24500451e-17  0.00000000e+00 -1.00000000e-01]]\n",
      "charge_atom_associations\n",
      " [[0, 2], [1, 2]]\n"
     ]
    }
   ],
   "source": [
    "ars_obj.set_local_charge_positions(np.array([[0,0,0.1], [0,0,-0.1]])) \n",
    "print(\"set local positions: \\n\", ars_obj.get_c_positions_local())\n",
    "cp = ars_obj.local_to_global()\n",
    "ars_obj.set_charge_positions_plus(cp)\n",
    "ars_obj.save_charges_global(os.path.join(\"/home/boittier/AdjustReference-System\", \"test_x.xyz\"))\n",
    "initial_fit=\"/home/boittier/AdjustReference-System/global_test_x.xyz\"\n",
    "xyz = initial_fit\n",
    "ars_obj = ARS(xyz, pcube, frames, pcube_2=pcube, method=method)\n",
    "print_vals(ars_obj)"
   ]
  },
  {
   "cell_type": "markdown",
   "metadata": {},
   "source": [
    "# Testing Y axes"
   ]
  },
  {
   "cell_type": "code",
   "execution_count": 7,
   "metadata": {},
   "outputs": [],
   "source": [
    "initial_fit=\"/home/boittier/AdjustReference-System/test_y.xyz\"\n",
    "xyz = initial_fit\n",
    "ars_obj = ARS(xyz, pcube, frames, pcube_2=pcube, method=method)\n",
    "# print_vals(ars_obj)"
   ]
  },
  {
   "cell_type": "code",
   "execution_count": 8,
   "metadata": {},
   "outputs": [
    {
     "name": "stdout",
     "output_type": "stream",
     "text": [
      "set local positions: \n",
      " [[ 0.1  0.   0. ]\n",
      " [-0.1  0.   0. ]]\n",
      "local c pos.\n",
      " [[ 1.00000000e-01  0.00000000e+00  4.85722573e-17]\n",
      " [-1.00000000e-01  0.00000000e+00 -1.38777878e-17]]\n",
      "charge_atom_associations\n",
      " [[0, 1], [1, 1]]\n"
     ]
    }
   ],
   "source": [
    "ars_obj.set_local_charge_positions(np.array([[0.1,0,0], [-0.1,0,0]])) \n",
    "print(\"set local positions: \\n\", ars_obj.get_c_positions_local())\n",
    "cp = ars_obj.local_to_global()\n",
    "ars_obj.set_charge_positions_plus(cp)\n",
    "ars_obj.save_charges_global(os.path.join(\"/home/boittier/AdjustReference-System\", \"test_y.xyz\"))\n",
    "initial_fit=\"/home/boittier/AdjustReference-System/global_test_y.xyz\"\n",
    "xyz = initial_fit\n",
    "ars_obj = ARS(xyz, pcube, frames, pcube_2=pcube, method=method)\n",
    "print_vals(ars_obj)"
   ]
  },
  {
   "cell_type": "code",
   "execution_count": 9,
   "metadata": {},
   "outputs": [
    {
     "name": "stdout",
     "output_type": "stream",
     "text": [
      "set local positions: \n",
      " [[ 0.   0.1  0. ]\n",
      " [ 0.  -0.1  0. ]]\n",
      "local c pos.\n",
      " [[ 4.40517460e-17  1.00000000e-01 -3.37776788e-17]\n",
      " [ 4.40517460e-17 -1.00000000e-01 -3.37776788e-17]]\n",
      "charge_atom_associations\n",
      " [[0, 1], [1, 1]]\n"
     ]
    }
   ],
   "source": [
    "ars_obj.set_local_charge_positions(np.array([[0,0.1,0], [0,-0.1,0]])) \n",
    "print(\"set local positions: \\n\", ars_obj.get_c_positions_local())\n",
    "cp = ars_obj.local_to_global()\n",
    "ars_obj.set_charge_positions_plus(cp)\n",
    "ars_obj.save_charges_global(os.path.join(\"/home/boittier/AdjustReference-System\", \"test_y.xyz\"))\n",
    "initial_fit=\"/home/boittier/AdjustReference-System/global_test_y.xyz\"\n",
    "xyz = initial_fit\n",
    "ars_obj = ARS(xyz, pcube, frames, pcube_2=pcube, method=method)\n",
    "print_vals(ars_obj)"
   ]
  },
  {
   "cell_type": "code",
   "execution_count": 10,
   "metadata": {},
   "outputs": [
    {
     "name": "stdout",
     "output_type": "stream",
     "text": [
      "set local positions: \n",
      " [[ 0.   0.   0.1]\n",
      " [ 0.   0.  -0.1]]\n",
      "local c pos.\n",
      " [[ 6.24500451e-17  0.00000000e+00  1.00000000e-01]\n",
      " [-6.24500451e-17  0.00000000e+00 -1.00000000e-01]]\n",
      "charge_atom_associations\n",
      " [[0, 1], [1, 1]]\n"
     ]
    }
   ],
   "source": [
    "ars_obj.set_local_charge_positions(np.array([[0,0,0.1], [0,0,-0.1]])) \n",
    "print(\"set local positions: \\n\", ars_obj.get_c_positions_local())\n",
    "cp = ars_obj.local_to_global()\n",
    "ars_obj.set_charge_positions_plus(cp)\n",
    "ars_obj.save_charges_global(os.path.join(\"/home/boittier/AdjustReference-System\", \"test_y.xyz\"))\n",
    "initial_fit=\"/home/boittier/AdjustReference-System/global_test_y.xyz\"\n",
    "xyz = initial_fit\n",
    "ars_obj = ARS(xyz, pcube, frames, pcube_2=pcube, method=method)\n",
    "print_vals(ars_obj)"
   ]
  },
  {
   "cell_type": "markdown",
   "metadata": {},
   "source": [
    "#  Testing Z axes"
   ]
  },
  {
   "cell_type": "code",
   "execution_count": 11,
   "metadata": {},
   "outputs": [],
   "source": [
    "initial_fit=\"/home/boittier/AdjustReference-System/test_z.xyz\"\n",
    "xyz = initial_fit\n",
    "ars_obj = ARS(xyz, pcube, frames, pcube_2=pcube, method=method)\n",
    "# print_vals(ars_obj)"
   ]
  },
  {
   "cell_type": "code",
   "execution_count": 12,
   "metadata": {},
   "outputs": [
    {
     "name": "stdout",
     "output_type": "stream",
     "text": [
      "set local positions: \n",
      " [[ 0.1  0.   0. ]\n",
      " [-0.1  0.   0. ]]\n",
      "local c pos.\n",
      " [[ 0.1  0.   0. ]\n",
      " [-0.1  0.   0. ]]\n",
      "charge_atom_associations\n",
      " [[0, 0], [1, 0]]\n"
     ]
    }
   ],
   "source": [
    "ars_obj.set_local_charge_positions(np.array([[0.1,0,0], [-0.1,0,0]])) \n",
    "print(\"set local positions: \\n\", ars_obj.get_c_positions_local())\n",
    "cp = ars_obj.local_to_global()\n",
    "ars_obj.set_charge_positions_plus(cp)\n",
    "ars_obj.save_charges_global(os.path.join(\"/home/boittier/AdjustReference-System\", \"test_z.xyz\"))\n",
    "\n",
    "initial_fit=\"/home/boittier/AdjustReference-System/global_test_z.xyz\"\n",
    "xyz = initial_fit\n",
    "ars_obj = ARS(xyz, pcube, frames, pcube_2=pcube, method=method)\n",
    "print_vals(ars_obj)"
   ]
  },
  {
   "cell_type": "code",
   "execution_count": 13,
   "metadata": {},
   "outputs": [
    {
     "name": "stdout",
     "output_type": "stream",
     "text": [
      "set local positions: \n",
      " [[ 0.   0.1  0. ]\n",
      " [ 0.  -0.1  0. ]]\n",
      "local c pos.\n",
      " [[ 0.   0.1  0. ]\n",
      " [ 0.  -0.1  0. ]]\n",
      "charge_atom_associations\n",
      " [[0, 0], [1, 0]]\n"
     ]
    }
   ],
   "source": [
    "ars_obj.set_local_charge_positions(np.array([[0,0.1,0], [0,-0.1,0]])) \n",
    "print(\"set local positions: \\n\", ars_obj.get_c_positions_local())\n",
    "cp = ars_obj.local_to_global()\n",
    "ars_obj.set_charge_positions_plus(cp)\n",
    "ars_obj.save_charges_global(os.path.join(\"/home/boittier/AdjustReference-System\", \"test_z.xyz\"))\n",
    "\n",
    "initial_fit=\"/home/boittier/AdjustReference-System/global_test_z.xyz\"\n",
    "xyz = initial_fit\n",
    "ars_obj = ARS(xyz, pcube, frames, pcube_2=pcube, method=method)\n",
    "print_vals(ars_obj)"
   ]
  },
  {
   "cell_type": "code",
   "execution_count": 14,
   "metadata": {},
   "outputs": [
    {
     "name": "stdout",
     "output_type": "stream",
     "text": [
      "set local positions: \n",
      " [[ 0.   0.   0.1]\n",
      " [ 0.   0.  -0.1]]\n",
      "local c pos.\n",
      " [[ 0.   0.   0.1]\n",
      " [ 0.   0.  -0.1]]\n",
      "charge_atom_associations\n",
      " [[0, 0], [1, 0]]\n"
     ]
    }
   ],
   "source": [
    "ars_obj.set_local_charge_positions(np.array([[0,0,0.1], [0,0,-0.1]])) \n",
    "print(\"set local positions: \\n\", ars_obj.get_c_positions_local())\n",
    "cp = ars_obj.local_to_global()\n",
    "ars_obj.set_charge_positions_plus(cp)\n",
    "ars_obj.save_charges_global(os.path.join(\"/home/boittier/AdjustReference-System\", \"test_z.xyz\"))\n",
    "\n",
    "initial_fit=\"/home/boittier/AdjustReference-System/global_test_z.xyz\"\n",
    "xyz = initial_fit\n",
    "ars_obj = ARS(xyz, pcube, frames, pcube_2=pcube, method=method)\n",
    "print_vals(ars_obj)"
   ]
  },
  {
   "cell_type": "code",
   "execution_count": null,
   "metadata": {},
   "outputs": [],
   "source": []
  },
  {
   "cell_type": "code",
   "execution_count": null,
   "metadata": {},
   "outputs": [],
   "source": []
  },
  {
   "cell_type": "code",
   "execution_count": null,
   "metadata": {},
   "outputs": [],
   "source": []
  },
  {
   "cell_type": "code",
   "execution_count": null,
   "metadata": {},
   "outputs": [],
   "source": []
  },
  {
   "cell_type": "code",
   "execution_count": null,
   "metadata": {},
   "outputs": [],
   "source": []
  },
  {
   "cell_type": "code",
   "execution_count": null,
   "metadata": {},
   "outputs": [],
   "source": []
  },
  {
   "cell_type": "code",
   "execution_count": null,
   "metadata": {},
   "outputs": [],
   "source": []
  },
  {
   "cell_type": "code",
   "execution_count": null,
   "metadata": {},
   "outputs": [],
   "source": []
  },
  {
   "cell_type": "code",
   "execution_count": null,
   "metadata": {},
   "outputs": [],
   "source": []
  },
  {
   "cell_type": "code",
   "execution_count": null,
   "metadata": {},
   "outputs": [],
   "source": []
  },
  {
   "cell_type": "code",
   "execution_count": null,
   "metadata": {},
   "outputs": [],
   "source": []
  },
  {
   "cell_type": "code",
   "execution_count": null,
   "metadata": {},
   "outputs": [],
   "source": []
  }
 ],
 "metadata": {
  "kernelspec": {
   "display_name": "Python 3",
   "language": "python",
   "name": "python3"
  },
  "language_info": {
   "codemirror_mode": {
    "name": "ipython",
    "version": 3
   },
   "file_extension": ".py",
   "mimetype": "text/x-python",
   "name": "python",
   "nbconvert_exporter": "python",
   "pygments_lexer": "ipython3",
   "version": "3.7.1"
  }
 },
 "nbformat": 4,
 "nbformat_minor": 2
}
