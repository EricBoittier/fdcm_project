{
 "cells": [
  {
   "cell_type": "code",
<<<<<<< HEAD
   "execution_count": 1,
   "id": "398e9e18-ca4c-4437-8360-70a7a92b71dc",
=======
   "execution_count": 5,
>>>>>>> e6d51e630880e59381454565531cf698d81a498d
   "metadata": {},
   "outputs": [],
   "source": [
    "import os, sys\n",
    "import matplotlib.pyplot as plt\n",
    "plt.style.use(['science','ieee', \"no-latex\", \"std-colors\"])\n",
    "#ars_path = \"/home/unibas/boittier/AdjustReference-System/\"\n",
    "ars_path = \"/home/boittier/Documents/AdjustReference-System/\"\n",
    "sys.path.insert(1, ars_path)\n",
    "from ARS import *\n",
    "import numpy as np\n"
   ]
  },
  {
   "cell_type": "code",
<<<<<<< HEAD
   "execution_count": 2,
   "id": "ddb5c709-3d55-40ee-b446-985db210afad",
=======
   "execution_count": 6,
>>>>>>> e6d51e630880e59381454565531cf698d81a498d
   "metadata": {},
   "outputs": [],
   "source": [
    "def find_adjustment(xyz_file_name, pcube, frame_file):    \n",
    "    output_filename = \"test.xyz\"\n",
    "    ARS_obj = ARS(xyz_file_name, pcube, frame_file)\n",
    "    ARS_obj.save_charges_local(output_filename)\n",
    "    \n",
    "#print(f\"Distance between Atom configurations = {ARS_obj.get_distance_atoms()}\")\n",
    "#print(f\"Distance between Charge configurations = {ARS_obj.get_distance_charges()}\")"
   ]
  },
  {
   "cell_type": "code",
   "execution_count": 22,
<<<<<<< HEAD
   "id": "5e605097-e036-4398-afb4-640f82f9f337",
=======
>>>>>>> e6d51e630880e59381454565531cf698d81a498d
   "metadata": {},
   "outputs": [],
   "source": [
    "def plot_rmsd(charge_positions, phi, show=True):\n",
    "    rms_values = []\n",
    "    n_ = len(charge_positions)\n",
    "    for i in range(n_-1):\n",
    "        dif = charge_positions[i+1] - charge_positions[i+0]\n",
    "        rms = np.sqrt(np.mean(dif**2))\n",
    "        rms_values.append(rms)\n",
    "    phi, rms_values = zip(*sorted(zip(phi, rms_values)))\n",
    "    plt.plot(phi, rms_values)\n",
    "   #plt.scatter(phi, rms_values)\n",
    "\n",
    "    plt.ylabel(\"$\\sqrt{\\sum_1^i (q_i(\\Phi_n) - q_i(\\Phi_{n-1}))^2}$\\n(local coordinates)\")\n",
    "    plt.xlabel(\"$\\Phi$\")\n",
    "    if show:\n",
    "        plt.show()\n",
    "    else:\n",
    "        return plt.gca()\n",
    "\n",
    "    \n",
    "def plot_rmsd_sum_per_atom(charge_positions, show=True):\n",
    "    rms_values = []\n",
    "    n_ = len(charge_positions)\n",
    "    for i in range(n_-1):\n",
    "        rms = []\n",
    "        n = charge_positions[i+1].shape[0]\n",
    "        for j in range(n):\n",
    "            dif = charge_positions[i+1][j] - charge_positions[i+0][j]\n",
    "            rms.append(np.sqrt(np.mean(dif**2)))\n",
    "        rms_values.append(rms)\n",
    "\n",
    "    rms_values_max = [np.max(x) for x in rms_values]\n",
    "    rms_values = np.array(rms_values)\n",
    "\n",
    "    sums = [np.sum(x) for x in rms_values.T]\n",
    "    my_cmap = plt.get_cmap(\"Blues\")\n",
    "    rescale = lambda y: (y - np.min(y)) / (np.max(y) - np.min(y))\n",
    "    plt.bar(range(1, len(sums)+1), sums, color=my_cmap(rescale(sums)), \n",
    "            edgecolor=\"k\", linewidth=0.25)\n",
    "    \n",
    "    plt.xticks(ticks=range(1, len(sums)+1), \n",
    "               labels=[\"$q_{\" + str(x) + \"}$\" for x in range(1, len(sums)+1)], rotation=45, size=7)\n",
    "    plt.xlim(0.5, len(sums)+0.5)\n",
    "    plt.xlabel(\"$q_n$\")\n",
    "    plt.ylabel(\"$\\sum$ RMSD$(q)$\\n(local coordinates)\")\n",
    "    \n",
    "    if show:\n",
    "        plt.show()\n",
    "    else:\n",
    "        return plt.gca()   \n",
    "    \n",
    "def plot_rmsd_per_atom(charge_positions, phi, show=True):\n",
    "    rms_values = []\n",
    "    n_ = len(charge_positions)\n",
    "    \n",
    "    for i in range(n_-1):\n",
    "        rms = []\n",
    "        n = charge_positions[i+1].shape[0]\n",
    "        for j in range(n):\n",
    "            dif = charge_positions[i+1][j] - charge_positions[i+0][j]\n",
    "            rms.append(np.sqrt(np.mean(dif**2)))\n",
    "        rms_values.append(rms)\n",
    "\n",
    "    rms_values_max = [np.max(x) for x in rms_values]\n",
    "    rms_values = np.array(rms_values)\n",
    "\n",
    "    sums = [np.sum(x) for x in rms_values.T]\n",
    "    my_cmap = plt.get_cmap(\"Blues\")\n",
    "    rescale = lambda y: (y - np.min(y)) / (np.max(y) - np.min(y))\n",
    "    \n",
    "    colors_ = my_cmap(rescale(sums))\n",
    "    \n",
    "    for i, rms in enumerate(rms_values.T):\n",
    "        phi, rms = zip(*sorted(zip(phi, rms)))\n",
    "        #plt.scatter(phi, rms, color=colors_[i])\n",
    "        plt.plot(phi, rms, color=colors_[i])\n",
    "\n",
    "    plt.xlabel(\"$\\Phi$\")\n",
    "    plt.ylabel(\"$\\sum$ RMSD$(q)$\\n(local coordinates)\")\n",
    "\n",
    "    \n",
    "    if show:\n",
    "        plt.show()\n",
    "    else:\n",
    "        return plt.gca()   \n",
    "        \n",
    "def plot_dev_per_atom(charge_positions, phi, show=True):\n",
    "    rms_values = []\n",
    "    n_ = len(charge_positions)\n",
    "    for i in range(1,n_):\n",
    "        rms = []\n",
    "        n = charge_positions[i].shape[0]\n",
    "        for j in range(n):\n",
    "            dif = charge_positions[i][j] - charge_positions[0][j]\n",
    "            rms.append(np.sqrt(np.sum(dif**2)))\n",
    "        rms_values.append(rms)\n",
    "\n",
    "    rms_values_max = [np.max(x) for x in rms_values]\n",
    "    rms_values = np.array(rms_values)\n",
    "    sums = [np.max(x) - np.min(x) for x in rms_values.T]\n",
    "    \n",
    "    my_cmap = plt.get_cmap(\"Blues\")\n",
    "    rescale = lambda y: (y - np.min(y)) / (np.max(y) - np.min(y))\n",
    "    colors_ = my_cmap(rescale(sums))\n",
    "   \n",
    "    for i, rms in enumerate(rms_values.T):\n",
    "        phi, rms = zip(*sorted(zip(phi, rms)))\n",
    "        #plt.scatter(phi, rms, color=colors_[i])\n",
    "        plt.plot(phi, rms, color=colors_[i])\n",
    "\n",
    "\n",
    "    plt.xlabel(\"$\\Phi$\")\n",
    "    plt.ylabel(\"$\\sqrt{\\sum (q(0) - q(\\Phi))^2}$\\n(local coordinates)\")\n",
    "    \n",
    "    if show:\n",
    "        plt.show()\n",
    "    else:\n",
    "        return plt.gca()\n",
    "        \n",
    "def plot_dist_per_atom(charge_positions, phi, show=True):\n",
    "    rms_values = []\n",
    "    n_ = len(charge_positions)\n",
    "    for i in range(n_):\n",
    "        rms = []\n",
    "        n = charge_positions[i].shape[0]\n",
    "        for j in range(n):\n",
    "            rms.append(abs(charge_positions[i][j].sum()))\n",
    "        rms_values.append(rms)\n",
    "\n",
    "    rms_values_max = [np.max(x) for x in rms_values]\n",
    "    rms_values = np.array(rms_values)\n",
    "    sums = [np.sum(x) for x in rms_values.T]\n",
    "    \n",
    "    diffs = [abs(x[0] - x[-1]) for x in rms_values.T]\n",
    "    #print(diffs)\n",
    "    \n",
    "    my_cmap = plt.get_cmap(\"Blues\")\n",
    "    rescale = lambda y: (y - np.min(y)) / (np.max(y) - np.min(y))\n",
    "    colors_ = my_cmap(rescale(diffs))    \n",
    "    \n",
    "    for i, rms in enumerate(rms_values.T):\n",
    "        phi, rms = zip(*sorted(zip(phi, rms)))\n",
    "        #plt.scatter(phi, rms, color=colors_[i])\n",
    "        plt.plot(phi, rms, color=colors_[i], linewidth=0.5)\n",
    "        \n",
    "    plt.grid(which=\"both\", linewidth=0.1)\n",
    "    plt.xlabel(\"$\\Phi$\")\n",
    "    plt.ylabel(\"$q_{n}(e_x + e_y + e_z)(\\Phi)$\\n(local coordinates)\")\n",
    "    \n",
    "    if show:\n",
    "        plt.show()\n",
    "    else:\n",
    "        return plt.gca()\n",
    "        \n",
    "        \n",
    "def plot_dist_dif_per_atom(charge_positions, phi, show=True):\n",
    "    rms_values = []\n",
    "    n_ = len(charge_positions)\n",
    "    for i in range(n_):\n",
    "        rms = []\n",
    "        n = charge_positions[i].shape[0]\n",
    "        for j in range(n):\n",
    "            rms.append(abs(charge_positions[i][j].sum()))\n",
    "        rms_values.append(rms)\n",
    "\n",
    "    rms_values_max = [np.max(x) for x in rms_values]\n",
    "    rms_values = np.array(rms_values)\n",
    "    sums = [np.sum(x) for x in rms_values.T]\n",
    "    \n",
    "    diffs = [abs(x[0] - x[-1]) for x in rms_values.T]\n",
    "    \n",
    "    my_cmap = plt.get_cmap(\"Blues\")\n",
    "    rescale = lambda y: (y - np.min(y)) / (np.max(y) - np.min(y))\n",
    "    colors_ = my_cmap(rescale(diffs))    \n",
    "    \n",
    "    plt.bar(range(len(diffs)), diffs, color=colors_, \n",
    "            edgecolor=\"k\", linewidth=0.25)\n",
    "    plt.xticks(ticks=range(1, len(diffs)+1), \n",
    "               labels=[\"$q_{\" + str(x) + \"}$\" for x in range(1, len(diffs)+1)], rotation=45, size=7)\n",
    "    plt.xlim(0.5, len(diffs)+0.5)\n",
    "        \n",
    "#     plt.grid(which=\"both\", linewidth=0.1)\n",
    "    plt.xlabel(\"$q$\")\n",
    "    plt.ylabel(\"$\\sum_0^n q_{n}(e_x + e_y + e_z)$\\n(local coordinates)\")\n",
    "    \n",
    "    if show:\n",
    "        plt.show()\n",
    "    else:\n",
    "        return plt.gca()\n",
    "\n",
    "\n",
    "def load_c_pos(name, scan, cubedir, cube_name, frame_file):\n",
    "    charge_positions = []\n",
    "    dih = []\n",
    "    for i in range(36):\n",
    "        xyz_file_name = \"../FDCM/{name}/{i}_{j}/refined.xyz\".format(name=name, i=i, j=i+1)\n",
    "        pcube = \"{cubedir}/{j}_{scan}/{cube_name}\".format(cubedir=cubedir, name=name, scan=scan, \n",
    "                                                                          cube_name=cube_name, j=i+1)\n",
    "        output_filename = \"test.xyz\"\n",
    "        ARS_obj = ARS(xyz_file_name, pcube, frame_file)\n",
    "        ARS_obj.save_charges_local(output_filename)\n",
    "        charge_positions.append(ARS_obj.get_c_positions_local())\n",
<<<<<<< HEAD
    "        indices = [int(x)-1 for x in scan.split(\"_\")[1:-1]]\n",
    "        dih.append(ARS_obj.get_dih(*indices))\n",
    "        \n",
    "    return charge_positions, dih\n",
    "\n",
    "def do_alignment(name, scan, cube_name, frame_file):\n",
    "    for i in range(36):\n",
=======
    "    return charge_positions\n",
    "\n",
    "def do_alignment(name, scan, cube_name, frame_file):\n",
    "    for i in range(16):\n",
>>>>>>> e6d51e630880e59381454565531cf698d81a498d
    "        xyz_file_name = \"../FDCM/{name}/{i}_{j}/refined.xyz\".format(name=name, i=i, j=i+1)\n",
    "        pcube = \"../FDCM/cube_files/{name}/{j}_{scan}/{cube_name}\".format(name=name, scan=scan, \n",
    "                                                                          cube_name=cube_name, j=i+1)\n",
    "        pcube2 = \"../FDCM/cube_files/{name}/{j}_{scan}/{cube_name}\".format(name=name, scan=scan, \n",
    "                                                                          cube_name=cube_name, j=0)\n",
    "        ARS_obj = ARS(xyz_file_name, pcube, frame_file, pcube_2=pcube2)\n",
    "        ARS_obj.align_in_global(filename_template=\"../FDCM/{name}/{i}_{j}/\".format(name=name, i=i, j=i+1) + str(i+1) + \"_aligned_{}.xyz\")\n",
<<<<<<< HEAD
    "\n",
    "def all_plots(charge_positions, dih, name):\n",
    "    a = plot_rmsd(charge_positions, dih, show=_show_)\n",
    "    plt.savefig(f\"figs/{name}_rmsd.pdf\")\n",
    "    plt.clf()\n",
    "    b = plot_rmsd_sum_per_atom(charge_positions_fbuta, show=_show_)\n",
    "    plt.savefig(f\"figs/{name}_rmsd_sum_per_charge.pdf\")\n",
    "    plt.clf()\n",
    "    c = plot_rmsd_per_atom(charge_positions, dih, show=_show_)\n",
    "    plt.savefig(f\"figs/{name}_rmsd_per_charge.pdf\")\n",
    "    plt.clf()\n",
    "    d = plot_dev_per_atom(charge_positions, dih, show=_show_)\n",
    "    plt.savefig(f\"figs/{name}_rmsd_dev.pdf\")\n",
    "    plt.clf()\n",
    "    e = plot_dist_per_atom(charge_positions, dih, show=_show_)\n",
    "    plt.savefig(f\"figs/{name}_rmsd_dev_per_charge.pdf\")\n",
    "    plt.clf()\n",
    "    f = plot_dist_dif_per_atom(charge_positions, dih, show=_show_)\n",
    "    plt.savefig(f\"figs/{name}_rmsd_dif_per_charge.pdf\")\n",
    "    plt.clf()\n",
    "    \n"
=======
    "\n"
>>>>>>> e6d51e630880e59381454565531cf698d81a498d
   ]
  },
  {
   "cell_type": "code",
<<<<<<< HEAD
   "execution_count": 8,
   "id": "d378d35f-0945-4373-b416-761dcafe5b3c",
=======
   "execution_count": 20,
>>>>>>> e6d51e630880e59381454565531cf698d81a498d
   "metadata": {},
   "outputs": [
    {
     "name": "stdout",
     "output_type": "stream",
     "text": [
      "fbuta\n",
      "0.5205094561676543\n",
      "1.085812585120047\n",
      "1.7518581293502216\n",
      "2.5297216951458896\n",
      "3.181150882160733\n",
      "3.6872498498140747\n",
      "4.11146457003272\n",
      "4.462682505775152\n",
      "4.646672837566435\n",
      "4.462679837045262\n",
      "4.111529479263752\n",
      "3.6872077135563637\n",
      "3.181068289292466\n",
      "2.529472032160793\n",
      "1.751652686087642\n",
      "1.0860094677269705\n",
      "\n",
      "acrolein\n",
      "0.3714424557220696\n",
      "0.7566785711503123\n",
      "1.1888398524640016\n",
      "1.7108665924228386\n",
      "2.2200516947502225\n",
      "2.5914063265465046\n",
      "2.865070427273981\n",
      "3.0449524672772195\n",
      "3.109369937593709\n",
      "3.044695362135386\n",
      "2.8650758157321206\n",
      "2.5911676950457974\n",
      "2.219897040609275\n",
      "1.7106693722219877\n",
      "1.1887907820068835\n",
      "0.7566694410365622\n",
      "\n",
      "ester\n",
      "0.784444807619889\n",
      "1.3636559094588796\n",
      "2.1603152488203228\n",
      "2.664683196458005\n",
      "3.187475860292083\n",
      "3.785632157181515\n",
      "4.214561688529525\n",
      "4.441943782845124\n",
      "4.522501171361472\n",
      "4.425334470261352\n",
      "4.181566092522605\n",
      "3.7570893698132815\n",
      "3.178248967764001\n",
      "2.6329440011633567\n",
      "2.0785271656830617\n",
      "1.2744686374975396\n",
      "\n",
      "fbutone\n",
      "0.997416395889672\n",
      "1.7781410874936316\n",
      "2.554322546808\n",
      "3.272532096778498\n",
      "3.9834363756948834\n",
      "4.745273764315333\n",
      "5.299850691573035\n",
      "5.735595282659811\n",
      "5.937494396724362\n",
      "5.642183749938747\n",
      "4.975461006299213\n",
      "4.4294631907316795\n",
      "3.8698172243627003\n",
      "3.1869848344718097\n",
      "2.477798085721517\n",
      "1.8324874957072643\n",
      "\n"
     ]
    }
   ],
   "source": [
<<<<<<< HEAD
    "cubedir = \"/home/unibas/boittier/RDKit_G2/B.pdb/SCAN_1_2_3_4_S_36_10.0\"\n",
    "frame_file = \"../pydcm-1.2/models/test3/frames.txt\"    \n",
    "charge_positions_fbuta, dih_fbuta = load_c_pos(\"fbuta-5\", \"SCAN_1_2_3_4_F\", cubedir, \"B.p.cube\", frame_file)\n"
=======
    "print(\"fbuta\")\n",
    "frame_file = \"../pydcm-1.2/test3/frames.txt\"    \n",
    "#charge_positions_fbuta = load_c_pos(\"fbuta\", \"SCAN_1_2_3_4_F\", \"B.p.cube\", frame_file)\n",
    "do_alignment(\"fbuta\", \"SCAN_1_2_3_4_F\", \"B.p.cube\", frame_file)\n",
    "print()\n",
    "\n",
    "print(\"acrolein\")\n",
    "frame_file = \"../pydcm-1.2/acrolein-min/frames.txt\"\n",
    "#charge_positions_acrolein = load_c_pos(\"acrolein\", \"SCAN_1_2_3_4_F\", \"L.p.cube\", frame_file)\n",
    "do_alignment(\"acrolein\", \"SCAN_1_2_3_4_F\", \"L.p.cube\", frame_file)\n",
    "print()\n",
    "\n",
    "print(\"ester\")\n",
    "frame_file = \"../pydcm-1.2/ester-min/frames.txt\"\n",
    "#charge_positions_ester = load_c_pos(\"ester\", \"SCAN_1_2_6_8_F\", \"O.p.cube\", frame_file)\n",
    "do_alignment(\"ester\", \"SCAN_1_2_6_8_F\", \"O.p.cube\", frame_file)\n",
    "print()\n",
    "\n",
    "print(\"fbutone\")\n",
    "frame_file = \"../pydcm-1.2/butone-12/frames.txt\"\n",
    "#charge_positions_fbutone = load_c_pos(\"fbutone\", \"SCAN_1_2_6_8_F\", \"N.p.cube\", frame_file)\n",
    "do_alignment(\"fbutone\", \"SCAN_1_2_6_8_F\", \"N.p.cube\", frame_file)\n",
    "print()"
>>>>>>> e6d51e630880e59381454565531cf698d81a498d
   ]
  },
  {
   "cell_type": "code",
   "execution_count": 23,
<<<<<<< HEAD
   "id": "1a427dbe-ea2c-4f95-af73-008048d978d3",
   "metadata": {},
   "outputs": [
    {
     "data": {
      "text/plain": [
       "<Figure size 1980x1500 with 0 Axes>"
      ]
     },
     "metadata": {},
     "output_type": "display_data"
    }
   ],
   "source": [
    "_show_ = False \n",
    "dih = dih_fbuta[1:]\n",
    "name = \"fbuta-5\"\n",
    "all_plots(charge_positions_fbuta, dih, name)\n"
   ]
  },
  {
   "cell_type": "code",
   "execution_count": 7,
   "id": "01bd59ab-c77a-4405-aef1-59d095455df8",
   "metadata": {},
   "outputs": [],
=======
   "metadata": {},
   "outputs": [
    {
     "ename": "NameError",
     "evalue": "name 'charge_position_fbuta' is not defined",
     "output_type": "error",
     "traceback": [
      "\u001b[0;31m---------------------------------------------------------------------------\u001b[0m",
      "\u001b[0;31mNameError\u001b[0m                                 Traceback (most recent call last)",
      "\u001b[0;32m<ipython-input-23-ae415d0df622>\u001b[0m in \u001b[0;36m<module>\u001b[0;34m\u001b[0m\n\u001b[0;32m----> 1\u001b[0;31m \u001b[0mplot_rmsd\u001b[0m\u001b[0;34m(\u001b[0m\u001b[0mcharge_position_fbuta\u001b[0m\u001b[0;34m)\u001b[0m\u001b[0;34m\u001b[0m\u001b[0;34m\u001b[0m\u001b[0m\n\u001b[0m\u001b[1;32m      2\u001b[0m \u001b[0mplot_rmsd_sum_per_atom\u001b[0m\u001b[0;34m(\u001b[0m\u001b[0mcharge_position_fbuta\u001b[0m\u001b[0;34m)\u001b[0m\u001b[0;34m\u001b[0m\u001b[0;34m\u001b[0m\u001b[0m\n\u001b[1;32m      3\u001b[0m \u001b[0mplot_rmsd_per_atom\u001b[0m\u001b[0;34m(\u001b[0m\u001b[0mcharge_position_fbuta\u001b[0m\u001b[0;34m)\u001b[0m\u001b[0;34m\u001b[0m\u001b[0;34m\u001b[0m\u001b[0m\n",
      "\u001b[0;31mNameError\u001b[0m: name 'charge_position_fbuta' is not defined"
     ]
    }
   ],
>>>>>>> e6d51e630880e59381454565531cf698d81a498d
   "source": [
    "# dih_fbuta"
   ]
  },
  {
   "cell_type": "code",
<<<<<<< HEAD
   "execution_count": 12,
   "id": "ab15c2ef-7aa2-4763-bb0d-5ff5da30f3f1",
=======
   "execution_count": null,
>>>>>>> e6d51e630880e59381454565531cf698d81a498d
   "metadata": {},
   "outputs": [],
   "source": [
    "cubedir = \"/home/unibas/boittier/RDKit_G2/B.pdb/SCAN_1_2_3_4_S_36_-10.0\"\n",
    "frame_file = \"../pydcm-1.2/models/test3/frames.txt\"    \n",
    "charge_positions_fbuta_neg, dih_fbuta_neg = load_c_pos(\"fbuta-neg-5\", \"SCAN_1_2_3_4_F\", cubedir, \"B.p.cube\", frame_file)\n"
   ]
  },
  {
   "cell_type": "code",
<<<<<<< HEAD
   "execution_count": 24,
   "id": "c860ea76-7361-44db-a93c-880f69031d09",
   "metadata": {},
   "outputs": [
    {
     "data": {
      "text/plain": [
       "<Figure size 1980x1500 with 0 Axes>"
      ]
     },
     "metadata": {},
     "output_type": "display_data"
    }
   ],
   "source": [
    "_show_ = False \n",
    "dih = dih_fbuta[1:]\n",
    "name = \"fbuta-5-neg\"\n",
    "all_plots(charge_positions_fbuta_neg, dih, name)"
   ]
  },
  {
   "cell_type": "code",
   "execution_count": 253,
   "id": "7f1efcc9-9652-402b-aa7b-11be10a44874",
   "metadata": {},
   "outputs": [
    {
     "data": {
      "text/plain": [
       "<Figure size 1980x1500 with 0 Axes>"
      ]
     },
     "metadata": {},
     "output_type": "display_data"
    }
   ],
   "source": [
    "_show_ = False \n",
    "charge_positions = charge_positions_acrolein\n",
    "dih = dih_acrolein[1:]\n",
    "name = \"acrolein\"\n",
    "\n",
    "all_plots(charge_positions, dih, name)"
   ]
  },
  {
   "cell_type": "code",
   "execution_count": 254,
   "id": "a13cacb1-fb75-4c22-ba22-7a341c489488",
=======
   "execution_count": null,
>>>>>>> e6d51e630880e59381454565531cf698d81a498d
   "metadata": {},
   "outputs": [
    {
     "data": {
      "text/plain": [
       "<Figure size 1980x1500 with 0 Axes>"
      ]
     },
     "metadata": {},
     "output_type": "display_data"
    }
   ],
   "source": [
    "_show_ = False \n",
    "charge_positions = charge_positions_ester\n",
    "dih = dih_ester[1:]\n",
    "name = \"ester\"\n",
    "\n",
    "all_plots(charge_positions, dih, name)"
   ]
  },
  {
   "cell_type": "code",
<<<<<<< HEAD
   "execution_count": 255,
   "id": "7ba86bdd-c911-4065-955b-95e0fbb5b5cd",
=======
   "execution_count": null,
>>>>>>> e6d51e630880e59381454565531cf698d81a498d
   "metadata": {},
   "outputs": [
    {
     "data": {
      "text/plain": [
       "<Figure size 1980x1500 with 0 Axes>"
      ]
     },
     "metadata": {},
     "output_type": "display_data"
    }
   ],
   "source": [
    "_show_ = False \n",
    "charge_positions = charge_positions_fbutone\n",
    "dih = dih_fbutone[1:]\n",
    "name = \"fbutone\"\n",
    "\n",
    "all_plots(charge_positions, dih, name)"
   ]
  },
  {
   "cell_type": "code",
   "execution_count": null,
   "metadata": {},
   "outputs": [],
   "source": []
  },
  {
   "cell_type": "code",
<<<<<<< HEAD
   "execution_count": 26,
   "id": "bc4d9a06-e690-4296-93b3-74fd979cf346",
=======
   "execution_count": null,
>>>>>>> e6d51e630880e59381454565531cf698d81a498d
   "metadata": {},
   "outputs": [],
   "source": [
    "# print(\"fbuta\")\n",
    "# frame_file = \"../pydcm-1.2/test3/frames.txt\"    \n",
    "# #charge_positions_fbuta = load_c_pos(\"fbuta\", \"SCAN_1_2_3_4_F\", \"B.p.cube\", frame_file)\n",
    "# do_alignment(\"fbuta\", \"SCAN_1_2_3_4_F\", \"B.p.cube\", frame_file)\n",
    "# print()\n",
    "\n",
    "# print(\"acrolein\")\n",
    "# frame_file = \"../pydcm-1.2/acrolein-min/frames.txt\"\n",
    "# #charge_positions_acrolein = load_c_pos(\"acrolein\", \"SCAN_1_2_3_4_F\", \"L.p.cube\", frame_file)\n",
    "# do_alignment(\"acrolein\", \"SCAN_1_2_3_4_F\", \"L.p.cube\", frame_file)\n",
    "# print()\n",
    "\n",
    "# print(\"ester\")\n",
    "# frame_file = \"../pydcm-1.2/ester-min/frames.txt\"\n",
    "# #charge_positions_ester = load_c_pos(\"ester\", \"SCAN_1_2_6_8_F\", \"O.p.cube\", frame_file)\n",
    "# do_alignment(\"ester\", \"SCAN_1_2_6_8_F\", \"O.p.cube\", frame_file)\n",
    "# print()\n",
    "\n",
    "# print(\"fbutone\")\n",
    "# frame_file = \"../pydcm-1.2/butone-12/frames.txt\"\n",
    "# #charge_positions_fbutone = load_c_pos(\"fbutone\", \"SCAN_1_2_6_8_F\", \"N.p.cube\", frame_file)\n",
    "# do_alignment(\"fbutone\", \"SCAN_1_2_6_8_F\", \"N.p.cube\", frame_file)\n",
    "# print()\n",
    "\n",
    "# frame_file = \"../pydcm-1.2/acrolein-min/frames.txt\"\n",
    "# charge_positions_acrolein, dih_acrolein  = load_c_pos(\"acrolein\", \"SCAN_1_2_3_4_F\", \"L.p.cube\", frame_file)\n",
    "\n",
    "# frame_file = \"../pydcm-1.2/ester-min/frames.txt\"\n",
    "# charge_positions_ester, dih_ester  = load_c_pos(\"ester\", \"SCAN_1_2_6_8_F\", \"O.p.cube\", frame_file)\n",
    "\n",
    "# frame_file = \"../pydcm-1.2/butone-12/frames.txt\"\n",
    "# charge_positions_fbutone, dih_fbutone  = load_c_pos(\"fbutone\", \"SCAN_1_2_6_8_F\", \"N.p.cube\", frame_file)"
   ]
  },
  {
   "cell_type": "code",
   "execution_count": null,
   "metadata": {},
   "outputs": [],
   "source": []
  }
 ],
 "metadata": {
  "kernelspec": {
   "display_name": "base",
   "language": "python",
   "name": "base"
  },
  "language_info": {
   "codemirror_mode": {
    "name": "ipython",
    "version": 3
   },
   "file_extension": ".py",
   "mimetype": "text/x-python",
   "name": "python",
   "nbconvert_exporter": "python",
   "pygments_lexer": "ipython3",
   "version": "3.8.3"
  }
 },
 "nbformat": 4,
 "nbformat_minor": 5
}
