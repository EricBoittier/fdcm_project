{
 "cells": [
  {
   "cell_type": "code",
   "execution_count": 1,
   "id": "6774ad7c-6d56-4b1a-be39-30a4ed5fa0a3",
   "metadata": {},
   "outputs": [],
   "source": [
    "import os, sys\n",
    "import pandas as pd\n",
    "import numpy as np\n",
    "import matplotlib.pyplot as plt\n",
    "import seaborn as sns\n",
    "import matplotlib.pyplot as plt\n",
    "from mpl_toolkits.mplot3d import Axes3D\n",
    "import matplotlib\n",
    "from matplotlib import cm\n",
    "\n",
    "plt.style.use(['science','ieee', \"no-latex\", \"std-colors\"])"
   ]
  },
  {
   "cell_type": "code",
   "execution_count": 2,
   "id": "37aa831f-81c8-432d-ae3d-68c7ac719da8",
   "metadata": {},
   "outputs": [],
   "source": [
    "import py3Dmol"
   ]
  },
  {
   "cell_type": "code",
   "execution_count": 15,
   "id": "a636081c-c572-4eea-a246-e21f8ecafab0",
   "metadata": {},
   "outputs": [
    {
     "data": {
      "application/3dmoljs_load.v0": "<div id=\"3dmolviewer_16389629900290534\"  style=\"position: relative; width: 400px; height: 400px\">\n        <p id=\"3dmolwarning_16389629900290534\" style=\"background-color:#ffcccc;color:black\">You appear to be running in JupyterLab (or JavaScript failed to load for some other reason).  You need to install the 3dmol extension: <br>\n        <tt>jupyter labextension install jupyterlab_3dmol</tt></p>\n        </div>\n<script>\n\nvar loadScriptAsync = function(uri){\n  return new Promise((resolve, reject) => {\n    var tag = document.createElement('script');\n    tag.src = uri;\n    tag.async = true;\n    tag.onload = () => {\n      resolve();\n    };\n  var firstScriptTag = document.getElementsByTagName('script')[0];\n  firstScriptTag.parentNode.insertBefore(tag, firstScriptTag);\n});\n};\n\nif(typeof $3Dmolpromise === 'undefined') {\n$3Dmolpromise = null;\n  $3Dmolpromise = loadScriptAsync('https://3dmol.org/build/3Dmol.js');\n}\n\nvar viewer_16389629900290534 = null;\nvar warn = document.getElementById(\"3dmolwarning_16389629900290534\");\nif(warn) {\n    warn.parentNode.removeChild(warn);\n}\n$3Dmolpromise.then(function() {\nviewer_16389629900290534 = $3Dmol.createViewer($(\"#3dmolviewer_16389629900290534\"),{backgroundColor:\"white\"});\nviewer_16389629900290534.zoomTo();\n\tviewer_16389629900290534.addModel(\"12\\n\\nC -1.819683 -0.533738 0.000607\\nC -0.47575 0.162873 -0.001096\\nH -2.386155 -0.197524 -0.859107\\nH 0.484922 -1.626461 -0.00235\\nH -1.746172 -1.614347 -0.023668\\nH 2.12431 0.50764 -0.876899\\nH 2.120248 0.509611 0.878219\\nN 0.60826 -0.641682 -0.001362\\nO -0.385779 1.363421 -0.000296\\nC 1.952199 -0.101383 0.000972\\nH -2.36316 -0.236351 0.889327\\nH 2.653827 -0.924675 0.003481\\n\",\"xyz\");\n\tviewer_16389629900290534.setStyle({\"stick\": {}});\n\tviewer_16389629900290534.zoomTo();\nviewer_16389629900290534.render();\n});\n</script>",
      "text/html": [
       "<div id=\"3dmolviewer_16389629900290534\"  style=\"position: relative; width: 400px; height: 400px\">\n",
       "        <p id=\"3dmolwarning_16389629900290534\" style=\"background-color:#ffcccc;color:black\">You appear to be running in JupyterLab (or JavaScript failed to load for some other reason).  You need to install the 3dmol extension: <br>\n",
       "        <tt>jupyter labextension install jupyterlab_3dmol</tt></p>\n",
       "        </div>\n",
       "<script>\n",
       "\n",
       "var loadScriptAsync = function(uri){\n",
       "  return new Promise((resolve, reject) => {\n",
       "    var tag = document.createElement('script');\n",
       "    tag.src = uri;\n",
       "    tag.async = true;\n",
       "    tag.onload = () => {\n",
       "      resolve();\n",
       "    };\n",
       "  var firstScriptTag = document.getElementsByTagName('script')[0];\n",
       "  firstScriptTag.parentNode.insertBefore(tag, firstScriptTag);\n",
       "});\n",
       "};\n",
       "\n",
       "if(typeof $3Dmolpromise === 'undefined') {\n",
       "$3Dmolpromise = null;\n",
       "  $3Dmolpromise = loadScriptAsync('https://3dmol.org/build/3Dmol.js');\n",
       "}\n",
       "\n",
       "var viewer_16389629900290534 = null;\n",
       "var warn = document.getElementById(\"3dmolwarning_16389629900290534\");\n",
       "if(warn) {\n",
       "    warn.parentNode.removeChild(warn);\n",
       "}\n",
       "$3Dmolpromise.then(function() {\n",
       "viewer_16389629900290534 = $3Dmol.createViewer($(\"#3dmolviewer_16389629900290534\"),{backgroundColor:\"white\"});\n",
       "viewer_16389629900290534.zoomTo();\n",
       "\tviewer_16389629900290534.addModel(\"12\\n\\nC -1.819683 -0.533738 0.000607\\nC -0.47575 0.162873 -0.001096\\nH -2.386155 -0.197524 -0.859107\\nH 0.484922 -1.626461 -0.00235\\nH -1.746172 -1.614347 -0.023668\\nH 2.12431 0.50764 -0.876899\\nH 2.120248 0.509611 0.878219\\nN 0.60826 -0.641682 -0.001362\\nO -0.385779 1.363421 -0.000296\\nC 1.952199 -0.101383 0.000972\\nH -2.36316 -0.236351 0.889327\\nH 2.653827 -0.924675 0.003481\\n\",\"xyz\");\n",
       "\tviewer_16389629900290534.setStyle({\"stick\": {}});\n",
       "\tviewer_16389629900290534.zoomTo();\n",
       "viewer_16389629900290534.render();\n",
       "});\n",
       "</script>"
      ]
     },
     "metadata": {},
     "output_type": "display_data"
    }
   ],
   "source": [
    "xyz = open(\"/home/unibas/boittier/RDKit_G2/amide1.pdb/SCAN_1_2_3_4_S_36_10.0/xyz/SCAN_amide2.pdb-0.xyz\").read()\n",
    "\n",
    "xyzview = py3Dmol.view(width=400,height=400)\n",
    "xyzview.addModel(xyz,'xyz')\n",
    "xyzview.setStyle({'stick':{}})\n",
    "xyzview.zoomTo()\n",
    "xyzview.show()"
   ]
  },
  {
   "cell_type": "code",
   "execution_count": null,
   "id": "1a969848-2b3a-4ef2-9c7c-e117cf9229a6",
   "metadata": {},
   "outputs": [],
   "source": []
  }
 ],
 "metadata": {
  "kernelspec": {
   "display_name": "Python 3",
   "language": "python",
   "name": "python3"
  },
  "language_info": {
   "codemirror_mode": {
    "name": "ipython",
    "version": 3
   },
   "file_extension": ".py",
   "mimetype": "text/x-python",
   "name": "python",
   "nbconvert_exporter": "python",
   "pygments_lexer": "ipython3",
   "version": "3.9.1"
  }
 },
 "nbformat": 4,
 "nbformat_minor": 5
}
